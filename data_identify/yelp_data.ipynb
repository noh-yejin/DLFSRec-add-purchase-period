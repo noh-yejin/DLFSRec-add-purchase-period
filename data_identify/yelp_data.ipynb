{
 "cells": [
  {
   "cell_type": "code",
   "execution_count": 1,
   "metadata": {},
   "outputs": [
    {
     "name": "stdout",
     "output_type": "stream",
     "text": [
      "                  user_id             business_id                 date\n",
      "0  mh_-eMZ6K5RLWhZyISBhwA  XQfwVwDr-v0ZS3_CbbE5Xw  2018-07-07 22:09:11\n",
      "1  OyoGAe7OKpv6SyGZT5g77Q  7ATYjTIgM3jUlt4UM3IypQ  2012-01-03 15:28:18\n",
      "2  8g_iMtfSiwikVnbP2etR0A  YjUWPpI6HXG530lwP-fb2A  2014-02-05 20:30:30\n",
      "3  _7bHUi9Uuf5__HHc_Q8guQ  kxX2SOes4o-D3ZQBkiMRfA  2015-01-04 00:01:03\n",
      "4  bcjbaE6dDog4jkNY91ncLQ  e4Vwtrqf-wpJfwesgvdgxQ  2017-01-14 20:54:15\n"
     ]
    }
   ],
   "source": [
    "import zipfile\n",
    "import json\n",
    "import pandas as pd\n",
    "from collections import defaultdict\n",
    "\n",
    "def parse_jsonl_gz_file(file_path):\n",
    "    user_id_list = []\n",
    "    business_list = []\n",
    "    date_list = []\n",
    "    \n",
    "    with zipfile.ZipFile(file_path, 'r') as zip_ref:\n",
    "        file_list = zip_ref.namelist()\n",
    "\n",
    "        for file_name in file_list:\n",
    "            with zip_ref.open(file_name) as json_file:\n",
    "                for line in json_file:\n",
    "                    data = json.loads(line)\n",
    "                    user_id_list.append(data['user_id'])\n",
    "                    business_list.append(data['business_id'])\n",
    "                    date_list.append(data['date'])\n",
    "    \n",
    "    df = pd.DataFrame({\n",
    "        'user_id': user_id_list,\n",
    "        'business_id': business_list,\n",
    "        'date': date_list\n",
    "    })\n",
    "    \n",
    "    return df\n",
    "\n",
    "file_path = 'yelp_academic_dataset_review.json.zip'\n",
    "\n",
    "df = parse_jsonl_gz_file(file_path)\n",
    "\n",
    "print(df.head())\n"
   ]
  },
  {
   "cell_type": "markdown",
   "metadata": {},
   "source": [
    "### 5-core"
   ]
  },
  {
   "cell_type": "markdown",
   "metadata": {},
   "source": [
    "- 5번 이하 나타난 가게 삭제"
   ]
  },
  {
   "cell_type": "code",
   "execution_count": 2,
   "metadata": {},
   "outputs": [
    {
     "data": {
      "text/html": [
       "<div>\n",
       "<style scoped>\n",
       "    .dataframe tbody tr th:only-of-type {\n",
       "        vertical-align: middle;\n",
       "    }\n",
       "\n",
       "    .dataframe tbody tr th {\n",
       "        vertical-align: top;\n",
       "    }\n",
       "\n",
       "    .dataframe thead th {\n",
       "        text-align: right;\n",
       "    }\n",
       "</style>\n",
       "<table border=\"1\" class=\"dataframe\">\n",
       "  <thead>\n",
       "    <tr style=\"text-align: right;\">\n",
       "      <th></th>\n",
       "      <th>user_id</th>\n",
       "      <th>business_id</th>\n",
       "      <th>date</th>\n",
       "    </tr>\n",
       "  </thead>\n",
       "  <tbody>\n",
       "    <tr>\n",
       "      <th>0</th>\n",
       "      <td>mh_-eMZ6K5RLWhZyISBhwA</td>\n",
       "      <td>XQfwVwDr-v0ZS3_CbbE5Xw</td>\n",
       "      <td>2018-07-07 22:09:11</td>\n",
       "    </tr>\n",
       "    <tr>\n",
       "      <th>1</th>\n",
       "      <td>OyoGAe7OKpv6SyGZT5g77Q</td>\n",
       "      <td>7ATYjTIgM3jUlt4UM3IypQ</td>\n",
       "      <td>2012-01-03 15:28:18</td>\n",
       "    </tr>\n",
       "    <tr>\n",
       "      <th>2</th>\n",
       "      <td>8g_iMtfSiwikVnbP2etR0A</td>\n",
       "      <td>YjUWPpI6HXG530lwP-fb2A</td>\n",
       "      <td>2014-02-05 20:30:30</td>\n",
       "    </tr>\n",
       "    <tr>\n",
       "      <th>3</th>\n",
       "      <td>_7bHUi9Uuf5__HHc_Q8guQ</td>\n",
       "      <td>kxX2SOes4o-D3ZQBkiMRfA</td>\n",
       "      <td>2015-01-04 00:01:03</td>\n",
       "    </tr>\n",
       "    <tr>\n",
       "      <th>4</th>\n",
       "      <td>bcjbaE6dDog4jkNY91ncLQ</td>\n",
       "      <td>e4Vwtrqf-wpJfwesgvdgxQ</td>\n",
       "      <td>2017-01-14 20:54:15</td>\n",
       "    </tr>\n",
       "    <tr>\n",
       "      <th>...</th>\n",
       "      <td>...</td>\n",
       "      <td>...</td>\n",
       "      <td>...</td>\n",
       "    </tr>\n",
       "    <tr>\n",
       "      <th>6990275</th>\n",
       "      <td>qskILQ3k0I_qcCMI-k6_QQ</td>\n",
       "      <td>jals67o91gcrD4DC81Vk6w</td>\n",
       "      <td>2014-12-17 21:45:20</td>\n",
       "    </tr>\n",
       "    <tr>\n",
       "      <th>6990276</th>\n",
       "      <td>Zo0th2m8Ez4gLSbHftiQvg</td>\n",
       "      <td>2vLksaMmSEcGbjI5gywpZA</td>\n",
       "      <td>2021-03-31 16:55:10</td>\n",
       "    </tr>\n",
       "    <tr>\n",
       "      <th>6990277</th>\n",
       "      <td>mm6E4FbCMwJmb7kPDZ5v2Q</td>\n",
       "      <td>R1khUUxidqfaJmcpmGd4aw</td>\n",
       "      <td>2019-12-30 03:56:30</td>\n",
       "    </tr>\n",
       "    <tr>\n",
       "      <th>6990278</th>\n",
       "      <td>YwAMC-jvZ1fvEUum6QkEkw</td>\n",
       "      <td>Rr9kKArrMhSLVE9a53q-aA</td>\n",
       "      <td>2022-01-19 18:59:27</td>\n",
       "    </tr>\n",
       "    <tr>\n",
       "      <th>6990279</th>\n",
       "      <td>6JehEvdoCvZPJ_XIxnzIIw</td>\n",
       "      <td>VAeEXLbEcI9Emt9KGYq9aA</td>\n",
       "      <td>2018-01-02 22:50:47</td>\n",
       "    </tr>\n",
       "  </tbody>\n",
       "</table>\n",
       "<p>4392169 rows × 3 columns</p>\n",
       "</div>"
      ],
      "text/plain": [
       "                        user_id             business_id                 date\n",
       "0        mh_-eMZ6K5RLWhZyISBhwA  XQfwVwDr-v0ZS3_CbbE5Xw  2018-07-07 22:09:11\n",
       "1        OyoGAe7OKpv6SyGZT5g77Q  7ATYjTIgM3jUlt4UM3IypQ  2012-01-03 15:28:18\n",
       "2        8g_iMtfSiwikVnbP2etR0A  YjUWPpI6HXG530lwP-fb2A  2014-02-05 20:30:30\n",
       "3        _7bHUi9Uuf5__HHc_Q8guQ  kxX2SOes4o-D3ZQBkiMRfA  2015-01-04 00:01:03\n",
       "4        bcjbaE6dDog4jkNY91ncLQ  e4Vwtrqf-wpJfwesgvdgxQ  2017-01-14 20:54:15\n",
       "...                         ...                     ...                  ...\n",
       "6990275  qskILQ3k0I_qcCMI-k6_QQ  jals67o91gcrD4DC81Vk6w  2014-12-17 21:45:20\n",
       "6990276  Zo0th2m8Ez4gLSbHftiQvg  2vLksaMmSEcGbjI5gywpZA  2021-03-31 16:55:10\n",
       "6990277  mm6E4FbCMwJmb7kPDZ5v2Q  R1khUUxidqfaJmcpmGd4aw  2019-12-30 03:56:30\n",
       "6990278  YwAMC-jvZ1fvEUum6QkEkw  Rr9kKArrMhSLVE9a53q-aA  2022-01-19 18:59:27\n",
       "6990279  6JehEvdoCvZPJ_XIxnzIIw  VAeEXLbEcI9Emt9KGYq9aA  2018-01-02 22:50:47\n",
       "\n",
       "[4392169 rows x 3 columns]"
      ]
     },
     "execution_count": 2,
     "metadata": {},
     "output_type": "execute_result"
    }
   ],
   "source": [
    "# business_id 출현 횟수가 5번 미만인 값 삭제\n",
    "business_id_counts = df['business_id'].value_counts()\n",
    "business_id_to_keep = business_id_counts[business_id_counts >= 5].index.tolist()\n",
    "df = df[df['business_id'].isin(business_id_to_keep)]\n",
    "\n",
    "# user_id 출현 횟수가 5번 미만인 값 삭제\n",
    "user_id_counts = df['user_id'].value_counts()\n",
    "user_id_to_keep = user_id_counts[user_id_counts >= 5].index.tolist()\n",
    "df = df[df['user_id'].isin(user_id_to_keep)]\n",
    "df"
   ]
  },
  {
   "cell_type": "code",
   "execution_count": 3,
   "metadata": {},
   "outputs": [
    {
     "data": {
      "text/html": [
       "<div>\n",
       "<style scoped>\n",
       "    .dataframe tbody tr th:only-of-type {\n",
       "        vertical-align: middle;\n",
       "    }\n",
       "\n",
       "    .dataframe tbody tr th {\n",
       "        vertical-align: top;\n",
       "    }\n",
       "\n",
       "    .dataframe thead th {\n",
       "        text-align: right;\n",
       "    }\n",
       "</style>\n",
       "<table border=\"1\" class=\"dataframe\">\n",
       "  <thead>\n",
       "    <tr style=\"text-align: right;\">\n",
       "      <th></th>\n",
       "      <th>user_id</th>\n",
       "      <th>business_id</th>\n",
       "    </tr>\n",
       "  </thead>\n",
       "  <tbody>\n",
       "    <tr>\n",
       "      <th>0</th>\n",
       "      <td>0</td>\n",
       "      <td>[0, 671, 2189, 18981, 18303, 15907, 15363, 305...</td>\n",
       "    </tr>\n",
       "    <tr>\n",
       "      <th>1</th>\n",
       "      <td>1</td>\n",
       "      <td>[1, 595, 577, 55009, 46113, 118965, 125986, 13...</td>\n",
       "    </tr>\n",
       "    <tr>\n",
       "      <th>2</th>\n",
       "      <td>2</td>\n",
       "      <td>[2, 164, 2182, 2182, 12606, 2182, 1212, 15366,...</td>\n",
       "    </tr>\n",
       "    <tr>\n",
       "      <th>3</th>\n",
       "      <td>3</td>\n",
       "      <td>[3, 16043, 77338, 75914, 90555]</td>\n",
       "    </tr>\n",
       "    <tr>\n",
       "      <th>4</th>\n",
       "      <td>4</td>\n",
       "      <td>[4, 6333, 4, 3175, 1191, 1567, 1051, 1338, 101...</td>\n",
       "    </tr>\n",
       "    <tr>\n",
       "      <th>...</th>\n",
       "      <td>...</td>\n",
       "      <td>...</td>\n",
       "    </tr>\n",
       "    <tr>\n",
       "      <th>287111</th>\n",
       "      <td>287111</td>\n",
       "      <td>[135358, 135358, 135358, 135358, 135358]</td>\n",
       "    </tr>\n",
       "    <tr>\n",
       "      <th>287112</th>\n",
       "      <td>287112</td>\n",
       "      <td>[134083, 134083, 134083, 134083, 134083, 134083]</td>\n",
       "    </tr>\n",
       "    <tr>\n",
       "      <th>287113</th>\n",
       "      <td>287113</td>\n",
       "      <td>[145040, 145040, 145040, 145040, 145040, 145040]</td>\n",
       "    </tr>\n",
       "    <tr>\n",
       "      <th>287114</th>\n",
       "      <td>287114</td>\n",
       "      <td>[135603, 135603, 135603, 135603, 135603]</td>\n",
       "    </tr>\n",
       "    <tr>\n",
       "      <th>287115</th>\n",
       "      <td>287115</td>\n",
       "      <td>[133741, 134043, 134043, 134043, 134043]</td>\n",
       "    </tr>\n",
       "  </tbody>\n",
       "</table>\n",
       "<p>287116 rows × 2 columns</p>\n",
       "</div>"
      ],
      "text/plain": [
       "        user_id                                        business_id\n",
       "0             0  [0, 671, 2189, 18981, 18303, 15907, 15363, 305...\n",
       "1             1  [1, 595, 577, 55009, 46113, 118965, 125986, 13...\n",
       "2             2  [2, 164, 2182, 2182, 12606, 2182, 1212, 15366,...\n",
       "3             3                    [3, 16043, 77338, 75914, 90555]\n",
       "4             4  [4, 6333, 4, 3175, 1191, 1567, 1051, 1338, 101...\n",
       "...         ...                                                ...\n",
       "287111   287111           [135358, 135358, 135358, 135358, 135358]\n",
       "287112   287112   [134083, 134083, 134083, 134083, 134083, 134083]\n",
       "287113   287113   [145040, 145040, 145040, 145040, 145040, 145040]\n",
       "287114   287114           [135603, 135603, 135603, 135603, 135603]\n",
       "287115   287115           [133741, 134043, 134043, 134043, 134043]\n",
       "\n",
       "[287116 rows x 2 columns]"
      ]
     },
     "execution_count": 3,
     "metadata": {},
     "output_type": "execute_result"
    }
   ],
   "source": [
    "df['user_id'],_ = pd.factorize(df['user_id'])\n",
    "df['business_id'],_ = pd.factorize(df['business_id'])  \n",
    "df = df.drop_duplicates(subset=['user_id', 'business_id', 'date']) # 중복 데이터 제거\n",
    "\n",
    "gropuby_df= df.groupby('user_id')['business_id'].apply(list).reset_index()\n",
    "gropuby_df\n"
   ]
  },
  {
   "cell_type": "code",
   "execution_count": 4,
   "metadata": {},
   "outputs": [
    {
     "name": "stdout",
     "output_type": "stream",
     "text": [
      "        user_id                                        business_id  \\\n",
      "0             0  [0, 671, 2189, 18981, 18303, 15907, 15363, 305...   \n",
      "1             1  [1, 595, 577, 55009, 46113, 118965, 125986, 13...   \n",
      "2             2  [2, 164, 2182, 2182, 12606, 2182, 1212, 15366,...   \n",
      "3             3                    [3, 16043, 77338, 75914, 90555]   \n",
      "4             4  [4, 6333, 4, 3175, 1191, 1567, 1051, 1338, 101...   \n",
      "...         ...                                                ...   \n",
      "287111   287111           [135358, 135358, 135358, 135358, 135358]   \n",
      "287112   287112   [134083, 134083, 134083, 134083, 134083, 134083]   \n",
      "287113   287113   [145040, 145040, 145040, 145040, 145040, 145040]   \n",
      "287114   287114           [135603, 135603, 135603, 135603, 135603]   \n",
      "287115   287115           [133741, 134043, 134043, 134043, 134043]   \n",
      "\n",
      "                                         duplicated_items  \n",
      "0                                                      []  \n",
      "1                                                      []  \n",
      "2             [2182, 15366, 59800, 89486, 123532, 133928]  \n",
      "3                                                      []  \n",
      "4       [4, 3800, 14943, 33199, 30872, 31952, 44601, 8...  \n",
      "...                                                   ...  \n",
      "287111                                           [135358]  \n",
      "287112                                           [134083]  \n",
      "287113                                           [145040]  \n",
      "287114                                           [135603]  \n",
      "287115                                           [134043]  \n",
      "\n",
      "[287116 rows x 3 columns]\n"
     ]
    }
   ],
   "source": [
    "# 중복된 항목을 추출하여 새로운 컬럼에 저장하는 함수 정의\n",
    "def extract_duplicates(items):\n",
    "    duplicate_items = []\n",
    "    for item in items:\n",
    "        if items.count(item) > 1 and item not in duplicate_items:\n",
    "            duplicate_items.append(item)\n",
    "    return duplicate_items\n",
    "\n",
    "# 새로운 컬럼에 중복된 항목 저장\n",
    "gropuby_df['duplicated_items'] = gropuby_df['business_id'].apply(extract_duplicates)\n",
    "\n",
    "print(gropuby_df)"
   ]
  },
  {
   "cell_type": "code",
   "execution_count": 5,
   "metadata": {},
   "outputs": [
    {
     "data": {
      "text/plain": [
       "array([  0,   6,  14,   2,   1,  17,   3,  11, 141,  10,   5,  26,   7,\n",
       "         8,   4,  19,   9, 236,  43,  15,  59,  12,  29,  20,  28,  16,\n",
       "        47,  13,  82,  39, 538,  22,  18, 112,  48,  23,  25, 114,  35,\n",
       "        36,  27,  75,  50,  31,  24,  74,  34,  41,  49,  40,  77,  67,\n",
       "        71,  37,  42,  58,  65,  38,  89,  32,  21,  57, 187,  30,  45,\n",
       "       302,  93,  68,  51,  56,  97,  33,  84,  53,  44, 104,  46, 128,\n",
       "        83,  99,  70, 142,  81, 173,  76,  66,  63, 121,  86, 172,  88,\n",
       "       170,  94,  54,  80,  62, 140, 103,  55,  92,  61,  60,  52, 109,\n",
       "        90,  64, 100, 107, 247])"
      ]
     },
     "execution_count": 5,
     "metadata": {},
     "output_type": "execute_result"
    }
   ],
   "source": [
    "gropuby_df['duplicated_items'].apply(lambda x:len(x)).unique()"
   ]
  },
  {
   "cell_type": "code",
   "execution_count": 6,
   "metadata": {},
   "outputs": [
    {
     "data": {
      "text/plain": [
       "80019"
      ]
     },
     "execution_count": 6,
     "metadata": {},
     "output_type": "execute_result"
    }
   ],
   "source": [
    "len(gropuby_df[gropuby_df['duplicated_items'].apply(lambda x:len(x))>=1])"
   ]
  },
  {
   "cell_type": "code",
   "execution_count": 7,
   "metadata": {},
   "outputs": [
    {
     "data": {
      "text/plain": [
       "27.869920171637947"
      ]
     },
     "execution_count": 7,
     "metadata": {},
     "output_type": "execute_result"
    }
   ],
   "source": [
    "80019/287116*100"
   ]
  },
  {
   "cell_type": "code",
   "execution_count": 8,
   "metadata": {},
   "outputs": [
    {
     "data": {
      "text/plain": [
       "148523"
      ]
     },
     "execution_count": 8,
     "metadata": {},
     "output_type": "execute_result"
    }
   ],
   "source": [
    "len(df['business_id'].unique())"
   ]
  },
  {
   "cell_type": "code",
   "execution_count": 9,
   "metadata": {},
   "outputs": [
    {
     "data": {
      "text/plain": [
       "59734"
      ]
     },
     "execution_count": 9,
     "metadata": {},
     "output_type": "execute_result"
    }
   ],
   "source": [
    "# 중복을 제거할 집합(set) 생성\n",
    "unique_items = set()\n",
    "\n",
    "# 데이터프레임의 duplicated_items 컬럼을 순회하면서 중복 없이 원소 추가\n",
    "for row in gropuby_df['duplicated_items']:\n",
    "    unique_items.update(row)\n",
    "\n",
    "# 중복 없이 추가된 원소들을 리스트로 변환\n",
    "unique_items_list = list(unique_items)\n",
    "len(unique_items_list)"
   ]
  },
  {
   "cell_type": "code",
   "execution_count": 10,
   "metadata": {},
   "outputs": [
    {
     "data": {
      "text/plain": [
       "40.21868666805815"
      ]
     },
     "execution_count": 10,
     "metadata": {},
     "output_type": "execute_result"
    }
   ],
   "source": [
    "59734/148523*100"
   ]
  },
  {
   "cell_type": "code",
   "execution_count": null,
   "metadata": {},
   "outputs": [],
   "source": []
  }
 ],
 "metadata": {
  "kernelspec": {
   "display_name": "modeling",
   "language": "python",
   "name": "python3"
  },
  "language_info": {
   "codemirror_mode": {
    "name": "ipython",
    "version": 3
   },
   "file_extension": ".py",
   "mimetype": "text/x-python",
   "name": "python",
   "nbconvert_exporter": "python",
   "pygments_lexer": "ipython3",
   "version": "3.11.5"
  }
 },
 "nbformat": 4,
 "nbformat_minor": 2
}
